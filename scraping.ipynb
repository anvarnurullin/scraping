{
 "cells": [
  {
   "cell_type": "markdown",
   "metadata": {},
   "source": [
    "Анвар Нуруллин. Сделал две версии, так как пишу код на python в первый раз. В первой версии данные берутся с сайта lib.itmo.ru. Но ссылка с запросом меняется каждые несколько часов. Поэтому сделал вторую версию, где данные берутся из скачанного файла html."
   ]
  },
  {
   "cell_type": "markdown",
   "metadata": {},
   "source": [
    "1 версия"
   ]
  },
  {
   "cell_type": "code",
   "execution_count": null,
   "metadata": {},
   "outputs": [],
   "source": [
    "from bs4 import BeautifulSoup\n",
    "from requests import get\n",
    "from json import dumps\n",
    "\n",
    "#Ссылка на itmo.library с запросом \"парсинг\"\n",
    "url = \"https://eds.p.ebscohost.com/eds/results?vid=0&sid=6c8d3ade-5a7f-4dde-ae18-8c6f14525ac0%40redis\"\n",
    "\n",
    "r = get(url)\n",
    "\n",
    "bs = BeautifulSoup(r.text, \"lxml\")\n",
    "data = bs.findAll(\"li\", class_ = \"result-list-li\")\n",
    "\n",
    "f = open(\"articles.json\", \"w+\")\n",
    "\n",
    "result = []\n",
    "\n",
    "for i in data:\n",
    "    title = i.find(\"h3\").text\n",
    "    author = i.find(\"div\", class_ = \"display-info\").text\n",
    "    source = i.find(\"h3\").find(\"a\").get(\"href\")\n",
    "    result.append({\n",
    "        \"title\" : title,\n",
    "        \"author\": author.split(\"Темы\")[0],\n",
    "        \"source\": source\n",
    "    })\n",
    "  \n",
    "#Запись данных в json файл\n",
    "f.seek(0)\n",
    "f.write(dumps(result, ensure_ascii=False, indent = 2))\n",
    "f.close()"
   ]
  },
  {
   "cell_type": "markdown",
   "metadata": {},
   "source": [
    "2 версия"
   ]
  },
  {
   "cell_type": "code",
   "execution_count": 2,
   "metadata": {},
   "outputs": [],
   "source": [
    "from bs4 import BeautifulSoup\n",
    "from json import dumps\n",
    "\n",
    "result = []\n",
    "\n",
    "f = open(\"articles.json\", \"w+\")\n",
    "\n",
    "#Открытие html файла для чтения\n",
    "with open(\"itmo_lib.html\", \"r\") as t:\n",
    "    contents = t.read()\n",
    "    soup = BeautifulSoup(contents, 'lxml')\n",
    "    data = soup.findAll(\"li\", class_ = \"result-list-li\")\n",
    "    for i in data:\n",
    "        title = i.find(\"h3\").text\n",
    "        author = i.find(\"div\", class_ = \"display-info\").text\n",
    "        source = i.find(\"h3\").find(\"a\").get(\"href\")\n",
    "        result.append({\n",
    "            \"title\" : title,\n",
    "            \"author\": author.split(\"Темы\")[0],\n",
    "            \"source\": source\n",
    "        })\n",
    "        \n",
    "#Запись данных в json файл\n",
    "f.seek(0)\n",
    "f.write(dumps(result, ensure_ascii=False, indent = 2))\n",
    "f.close()"
   ]
  }
 ],
 "metadata": {
  "kernelspec": {
   "display_name": "Python 3.10.7 64-bit",
   "language": "python",
   "name": "python3"
  },
  "language_info": {
   "codemirror_mode": {
    "name": "ipython",
    "version": 3
   },
   "file_extension": ".py",
   "mimetype": "text/x-python",
   "name": "python",
   "nbconvert_exporter": "python",
   "pygments_lexer": "ipython3",
   "version": "3.10.7"
  },
  "orig_nbformat": 4,
  "vscode": {
   "interpreter": {
    "hash": "aee8b7b246df8f9039afb4144a1f6fd8d2ca17a180786b69acc140d282b71a49"
   }
  }
 },
 "nbformat": 4,
 "nbformat_minor": 2
}
